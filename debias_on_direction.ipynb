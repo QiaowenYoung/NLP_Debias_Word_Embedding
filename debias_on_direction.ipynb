{
 "cells": [
  {
   "cell_type": "code",
   "execution_count": 82,
   "metadata": {},
   "outputs": [],
   "source": [
    "def projection_matrix_1d(b):\n",
    "    \"\"\"Compute the projection matrix onto the space spanned by `b`\n",
    "    Args:\n",
    "        b: ndarray of dimension (D,), the basis for the subspace\n",
    "    \n",
    "    Returns:\n",
    "        P: the projection matrix\n",
    "    \"\"\"\n",
    "    P = np.dot(b, b.T) / np.dot(b.T, b) # b是列向量\n",
    "    return P"
   ]
  },
  {
   "cell_type": "code",
   "execution_count": 83,
   "metadata": {},
   "outputs": [],
   "source": [
    "def neutralize(x, b):\n",
    "    \"\"\"Compute the perpendicular vector onto the space spanned by `b`\n",
    "    Args:\n",
    "        x: the vector to be projected\n",
    "        b: ndarray of dimension (D,), the basis for the subspace\n",
    "    \n",
    "    Returns:\n",
    "        P: projection of x in space spanned by b\n",
    "    \"\"\"\n",
    "    b = b[1] - b[0]\n",
    "    x = x.reshape((-1, 1))\n",
    "    b = b.reshape((-1, 1))\n",
    "    # x, b都是列向量\n",
    "    P = np.dot(projection_matrix_1d(b), x)\n",
    "    P = x - P\n",
    "    return P"
   ]
  },
  {
   "cell_type": "code",
   "execution_count": 84,
   "metadata": {},
   "outputs": [],
   "source": [
    "def findStrInFile(str):\n",
    "    f_pro = open('professions.txt')\n",
    "    for line in f_pro.readlines():\n",
    "        l = len(line)\n",
    "        if str == line[:l - 1]:\n",
    "            f_pro.close()\n",
    "            return True\n",
    "    f_pro.close()\n",
    "    return False"
   ]
  },
  {
   "cell_type": "code",
   "execution_count": 89,
   "metadata": {},
   "outputs": [],
   "source": [
    "import string\n",
    "import re\n",
    "from gensim.models import word2vec\n",
    "import numpy as np\n",
    "\n",
    "# 对于 model 中训练得到的词向量，依次查看词是否为职业词，若是，则做中性化处理\n",
    "\n",
    "fout = open('wiki.zh.debias.txt', 'w')\n",
    "model = word2vec.Word2Vec.load('wiki.zh.model')\n",
    "\n",
    "#W = [\"他\", \"她\", \"他们\", \"她们\", \"男性\", \"女性\", \"父亲\", \"母亲\", \"儿子\", \"女儿\", \n",
    "#     \"爸爸\", \"妈妈\", \"男孩\", \"女孩\", \"男生\", \"女生\", \"男人\", \"女人\", \"男子\", \"女子\"]\n",
    "D = list()\n",
    "D.append(model.wv[\"他\"])\n",
    "D.append(model.wv[\"她\"])\n",
    "\n",
    "D = np.array(D)\n",
    "#B = generate_subspace(D, 10)\n",
    "\n",
    "for word in model.wv.vocab.keys():\n",
    "    if findStrInFile(word):\n",
    "        w = model.wv[word]\n",
    "        w = np.array(w)\n",
    "        w_n = neutralize(w, D)\n",
    "        s = \"\"\n",
    "        s += word + \" \"\n",
    "        for i in w_n:\n",
    "            s += str(i[0]) + \" \"\n",
    "        s += \"\\n\"\n",
    "        fout.write(s)\n",
    "    else:\n",
    "        w = model.wv[word]\n",
    "        s = \"\"\n",
    "        s += word + \" \"\n",
    "        for i in w:\n",
    "            s += str(i) + \" \"\n",
    "        s += \"\\n\"\n",
    "        fout.write(s)\n",
    "\n",
    "fout.close()"
   ]
  },
  {
   "cell_type": "code",
   "execution_count": null,
   "metadata": {},
   "outputs": [],
   "source": []
  }
 ],
 "metadata": {
  "kernelspec": {
   "display_name": "Python 3",
   "language": "python",
   "name": "python3"
  },
  "language_info": {
   "codemirror_mode": {
    "name": "ipython",
    "version": 3
   },
   "file_extension": ".py",
   "mimetype": "text/x-python",
   "name": "python",
   "nbconvert_exporter": "python",
   "pygments_lexer": "ipython3",
   "version": "3.7.6"
  }
 },
 "nbformat": 4,
 "nbformat_minor": 2
}
