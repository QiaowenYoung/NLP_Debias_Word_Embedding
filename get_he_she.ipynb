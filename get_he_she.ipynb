{
 "cells": [
  {
   "cell_type": "code",
   "execution_count": 3,
   "metadata": {},
   "outputs": [],
   "source": [
    "import numpy as np\n",
    "import string\n",
    "\n",
    "f = open('glove.6B/glove.6B.50d.txt', 'r')\n",
    "vecs = list() # aggregation of lists that store the vectors for each word\n",
    "words = list() # aggregation of words\n",
    "he_v = list() # vector for \"he\"\n",
    "she_v = list() # vector for \"she\"\n",
    "he_dist = list() # words' distances to \"he\"\n",
    "she_dist = list() # words' distances to \"she\"\n",
    "punc = string.punctuation\n",
    "\n",
    "def cosine_dist(l1, l2):\n",
    "    '''\n",
    "    USAGE\n",
    "    calculate the cosine distance of two words' vectors\n",
    "\n",
    "    INPUT\n",
    "    - l1: vector for either \"he\" or \"she\"\n",
    "    - l2: vector for the word to be compared\n",
    "\n",
    "    OUTPUT\n",
    "    a floating number in [-1, 1] representing the cosine distance of l1 and l2\n",
    "\n",
    "    '''\n",
    "    result = np.dot(l1, l2)\n",
    "    len_l1 = np.sqrt(np.dot(l1, l1))\n",
    "    len_l2 = np.sqrt(np.dot(l2, l2))\n",
    "    result /= len_l1 * len_l2\n",
    "    return result"
   ]
  },
  {
   "cell_type": "code",
   "execution_count": 4,
   "metadata": {},
   "outputs": [],
   "source": [
    "for line in f.readlines():\n",
    "    l = line.split(\" \")\n",
    "    if l[0] == \"he\":\n",
    "        he_v = list(map(eval, l[1:]))\n",
    "    if l[0] == \"she\":\n",
    "        she_v = list(map(eval, l[1:]))\n",
    "    if l[0] not in punc:\n",
    "        words.append(l[0])\n",
    "        vecs.append(list(map(eval, l[1:])))"
   ]
  },
  {
   "cell_type": "code",
   "execution_count": 5,
   "metadata": {},
   "outputs": [],
   "source": [
    "for vec in vecs:\n",
    "    he_dist.append(cosine_dist(he_v, vec))\n",
    "    she_dist.append(cosine_dist(she_v, vec))"
   ]
  },
  {
   "cell_type": "code",
   "execution_count": 6,
   "metadata": {},
   "outputs": [],
   "source": [
    "new1 = np.argsort(he_dist)\n",
    "new1 = new1[::-1]\n",
    "he_words = list()\n",
    "she_words = list()\n",
    "for i in range(11):\n",
    "    j = new1[i]\n",
    "    he_words.append(words[j])\n",
    "            \n",
    "new2 = np.argsort(she_dist)\n",
    "new2 = new2[::-1]\n",
    "for i in range(11):\n",
    "    j = new2[i]\n",
    "    she_words.append(words[j])"
   ]
  },
  {
   "cell_type": "code",
   "execution_count": 7,
   "metadata": {},
   "outputs": [],
   "source": [
    "fileObject = open('result.txt', 'w')\n",
    "for i in he_words:\n",
    "    fileObject.write(i)\n",
    "    fileObject.write(\" \")\n",
    "fileObject.write(\"\\n\")\n",
    "        \n",
    "for i in she_words:\n",
    "    fileObject.write(i)\n",
    "    fileObject.write(\" \")\n",
    "fileObject.write(\"\\n\")\n",
    "\n",
    "fileObject.close()"
   ]
  },
  {
   "cell_type": "code",
   "execution_count": null,
   "metadata": {},
   "outputs": [],
   "source": []
  }
 ],
 "metadata": {
  "file_extension": ".py",
  "kernelspec": {
   "display_name": "Python 3",
   "language": "python",
   "name": "python3"
  },
  "mimetype": "text/x-python",
  "name": "python",
  "npconvert_exporter": "python",
  "pygments_lexer": "ipython3",
  "version": 3
 },
 "nbformat": 4,
 "nbformat_minor": 2
}
