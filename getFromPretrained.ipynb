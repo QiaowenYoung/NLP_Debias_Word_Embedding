{
 "cells": [
  {
   "cell_type": "code",
   "execution_count": 11,
   "metadata": {},
   "outputs": [],
   "source": [
    "import numpy as np\n",
    "import string\n",
    "import re\n",
    "\n",
    "try:\n",
    "    f = open('sgns.wiki.word', 'r')\n",
    "except IOError:\n",
    "    print('cannot open file')\n",
    "vecs = list() # aggregation of lists that store the vectors for each word\n",
    "words = list() # aggregation of words\n",
    "he_v = list() # vector for \"he\"\n",
    "she_v = list() # vector for \"she\"\n",
    "he_dist = list() # words' distances to \"他\"\n",
    "she_dist = list() # words' distances to \"她\"\n",
    "\n",
    "def cosine_dist(l1, l2):\n",
    "    '''\n",
    "    USAGE\n",
    "    calculate the cosine distance of two words' vectors\n",
    "\n",
    "    INPUT\n",
    "    - l1: vector for either \"他\" or \"她\"\n",
    "    - l2: vector for the word to be compared\n",
    "\n",
    "    OUTPUT\n",
    "    a floating number in [-1, 1] representing the cosine distance of l1 and l2\n",
    "\n",
    "    '''\n",
    "    result = np.dot(l1, l2)\n",
    "    len_l1 = np.sqrt(np.dot(l1, l1))\n",
    "    len_l2 = np.sqrt(np.dot(l2, l2))\n",
    "    result /= len_l1 * len_l2\n",
    "    return result"
   ]
  },
  {
   "cell_type": "code",
   "execution_count": 12,
   "metadata": {},
   "outputs": [],
   "source": [
    "for line in f.readlines()[1:]:\n",
    "    l = line.split(\" \")\n",
    "    l.pop() # get rid of \"\\n\"\n",
    "    if re.findall(r'^\\u4ed6$',l[0]):\n",
    "        he_v = list(map(eval, l[1:]))\n",
    "    if re.findall(r'^\\u5979$',l[0]):\n",
    "        she_v = list(map(eval, l[1:]))\n",
    "    words.append(l[0])\n",
    "    vecs.append(list(map(eval, l[1:])))"
   ]
  },
  {
   "cell_type": "code",
   "execution_count": 13,
   "metadata": {},
   "outputs": [],
   "source": [
    "job = list()\n",
    "he_dist = list()\n",
    "she_dist = list()\n",
    "\n",
    "for vec in vecs:\n",
    "    if len(vec) == 0:\n",
    "        print('there is an empty vector')\n",
    "\n",
    "try:\n",
    "    fjob = open('professions.txt','r')\n",
    "    fw = open('print.txt','w')\n",
    "except IOError:\n",
    "    print('cannot open file')\n",
    "\n",
    "for i in range(len(words)):\n",
    "    for line in fjob.readlines():\n",
    "        line = line[0: (len(line) - 1)]\n",
    "        if line.encode('unicode-escape') == words[i].encode('unicode-escape') :\n",
    "            he_dist.append(cosine_dist(he_v, vecs[i]))\n",
    "            she_dist.append(cosine_dist(she_v, vecs[i]))\n",
    "            job.append(words[i])\n",
    "    fjob.seek(0)"
   ]
  },
  {
   "cell_type": "code",
   "execution_count": 14,
   "metadata": {},
   "outputs": [],
   "source": [
    "new1 = np.argsort(he_dist)\n",
    "new1 = new1[::-1]\n",
    "he_words = list()\n",
    "she_words = list()\n",
    "for i in range(15):\n",
    "    j = new1[i]\n",
    "    he_words.append(job[j])\n",
    "            \n",
    "new2 = np.argsort(she_dist)\n",
    "new2 = new2[::-1]\n",
    "for i in range(15):\n",
    "    j = new2[i]\n",
    "    she_words.append(job[j])"
   ]
  },
  {
   "cell_type": "code",
   "execution_count": 15,
   "metadata": {},
   "outputs": [],
   "source": [
    "fileObject = open('get_he_she_from_pretrained.txt', 'w')\n",
    "for i in he_words:\n",
    "    fileObject.write(i)\n",
    "    fileObject.write(\" \")\n",
    "fileObject.write(\"\\n\")\n",
    "        \n",
    "for i in she_words:\n",
    "    fileObject.write(i)\n",
    "    fileObject.write(\" \")\n",
    "fileObject.write(\"\\n\")\n",
    "\n",
    "fileObject.close()"
   ]
  },
  {
   "cell_type": "code",
   "execution_count": null,
   "metadata": {},
   "outputs": [],
   "source": []
  }
 ],
 "metadata": {
  "kernelspec": {
   "display_name": "Python 3",
   "language": "python",
   "name": "python3"
  },
  "language_info": {
   "codemirror_mode": {
    "name": "ipython",
    "version": 3
   },
   "file_extension": ".py",
   "mimetype": "text/x-python",
   "name": "python",
   "nbconvert_exporter": "python",
   "pygments_lexer": "ipython3",
   "version": "3.7.2"
  }
 },
 "nbformat": 4,
 "nbformat_minor": 2
}
