{
 "cells": [
  {
   "cell_type": "code",
   "execution_count": null,
   "metadata": {},
   "outputs": [],
   "source": [
    "def gender_subspace(D):\n",
    "    '''\n",
    "    input a list, <class, list<list<list(float)>>>\n",
    "    return also a list in above format\n",
    "    '''\n",
    "    result = list()\n",
    "    for Di in D:\n",
    "        for i in range(len(Di[0])):\n",
    "            u = list()\n",
    "            u.append((Di[0][i]+Di[1][i])/2.0)\n",
    "        result.append(u)\n",
    "    return result\n"
   ]
  },
  {
   "cell_type": "code",
   "execution_count": null,
   "metadata": {},
   "outputs": [],
   "source": [
    "Dinput = list()\n",
    "count = 0\n",
    "wordpairs = list()\n",
    "try:\n",
    "    f = open('','r')\n",
    "except IOError:\n",
    "    print('open file error')\n",
    "'''\n",
    "line = f.readline()\n",
    "n = line[0:(len(line)-1)]\n",
    "'''\n",
    "for line in f.readlines()[1:] :\n",
    "    count = count + 1\n",
    "    if count % 2 == 1:\n",
    "        prel = line.split(' ')\n",
    "    else:\n",
    "        elem = list()\n",
    "        wordpair = list()\n",
    "        line = line.split(' ')\n",
    "        wordpair.append(prel[0])\n",
    "        wordpair.append(line[0])\n",
    "        elem.append(list(map(eval, prel[1:])))\n",
    "        elem.append(list(map(eval, line[1:])))\n",
    "        Dinput.append(elem)"
   ]
  }
 ],
 "metadata": {
  "kernelspec": {
   "display_name": "Python 3",
   "language": "python",
   "name": "python3"
  },
  "language_info": {
   "codemirror_mode": {
    "name": "ipython",
    "version": 3
   },
   "file_extension": ".py",
   "mimetype": "text/x-python",
   "name": "python",
   "nbconvert_exporter": "python",
   "pygments_lexer": "ipython3",
   "version": "3.7.2"
  }
 },
 "nbformat": 4,
 "nbformat_minor": 2
}
