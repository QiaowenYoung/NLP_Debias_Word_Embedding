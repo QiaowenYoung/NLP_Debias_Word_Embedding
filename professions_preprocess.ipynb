{
 "cells": [
  {
   "cell_type": "code",
   "execution_count": 4,
   "metadata": {},
   "outputs": [],
   "source": [
    "import numpy as np\n",
    "import string\n",
    "import re\n",
    "\n",
    "f = open('professions.txt', 'r')\n",
    "pro = list()\n",
    "\n",
    "for line in f.readlines():\n",
    "    chi = re.findall(r'[\\u4E00-\\u9FFF]',line)\n",
    "    l = len(chi)\n",
    "    if l < 11:\n",
    "        pro.append(line)"
   ]
  },
  {
   "cell_type": "code",
   "execution_count": 6,
   "metadata": {},
   "outputs": [],
   "source": [
    "fileObject = open('professions_processed.txt', 'w')\n",
    "for word in pro:\n",
    "    fileObject.write(word)\n",
    "fileObject.close()"
   ]
  },
  {
   "cell_type": "code",
   "execution_count": null,
   "metadata": {},
   "outputs": [],
   "source": []
  }
 ],
 "metadata": {
  "kernelspec": {
   "display_name": "Python 3",
   "language": "python",
   "name": "python3"
  },
  "language_info": {
   "codemirror_mode": {
    "name": "ipython",
    "version": 3
   },
   "file_extension": ".py",
   "mimetype": "text/x-python",
   "name": "python",
   "nbconvert_exporter": "python",
   "pygments_lexer": "ipython3",
   "version": "3.7.2"
  }
 },
 "nbformat": 4,
 "nbformat_minor": 2
}
