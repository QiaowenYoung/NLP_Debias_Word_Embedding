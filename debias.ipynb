{
 "cells": [
  {
   "cell_type": "code",
   "execution_count": 1,
   "metadata": {},
   "outputs": [],
   "source": [
    "import numpy as np\n",
    "from numpy import linalg as la\n",
    "from gensim.models import word2vec\n",
    "from gensim.models.word2vec import Word2Vec\n",
    "import pickle\n",
    "\n",
    "def generate_subspace(D, k):\n",
    "    \n",
    "    mean = list()\n",
    "    for Di in D:\n",
    "        meani = (Di[0] + Di[1]) / 2\n",
    "        new = list()\n",
    "        new.append(meani)\n",
    "        new.append(meani)\n",
    "        mean.append(new)\n",
    "\n",
    "    mean = np.array(mean)\n",
    "    D_centralize = D - mean\n",
    "    \n",
    "    D0 = D[0]\n",
    "    v0 = D0[0]\n",
    "    v0 = np.array(v0).reshape((1,-1))\n",
    "    C = np.zeros((np.matmul(v0.T, v0)).shape)\n",
    "    for Di in D_centralize:\n",
    "        v0 = Di[0]\n",
    "        v1 = Di[1]\n",
    "        v0 = np.array(v0).reshape((1,-1))\n",
    "        v1 = np.array(v1).reshape((1,-1))\n",
    "        Ci = (v0.T.dot(v0) + v1.T.dot(v1)) / 2\n",
    "        C += Ci\n",
    "\n",
    "    U, sigma, VT = la.svd(C)\n",
    "    return U[: k]"
   ]
  },
  {
   "cell_type": "code",
   "execution_count": 2,
   "metadata": {},
   "outputs": [],
   "source": [
    "def projection_matrix_general(B):\n",
    "    \"\"\"Compute the projection matrix onto the space spanned by `B`\n",
    "    Args:\n",
    "        B: ndarray of dimension (d, k), the basis for the subspace\n",
    "        is [b1, b2, ..., bk]\n",
    "    \n",
    "    Returns:\n",
    "        P: the projection matrix\n",
    "    \"\"\"\n",
    "    P = B.dot(la.pinv(B.T.dot(B))).dot(B.T)\n",
    "    #P = np.dot(np.dot(B, la.pinv(B.T, B)), B.T)\n",
    "    return P"
   ]
  },
  {
   "cell_type": "code",
   "execution_count": 3,
   "metadata": {},
   "outputs": [],
   "source": [
    "def project_general(x, B):\n",
    "    \"\"\"Compute the projection matrix onto the space spanned by `B`\n",
    "    Args:\n",
    "        B: ndarray of dimension (k, d), the basis for the subspace\n",
    "    \n",
    "    Returns:\n",
    "        y: projection of x in space spanned by b\n",
    "    \"\"\"\n",
    "    p = np.zeros(x.shape)\n",
    "    P = np.dot(projection_matrix_general(B.T), x)\n",
    "    return p"
   ]
  },
  {
   "cell_type": "code",
   "execution_count": 4,
   "metadata": {},
   "outputs": [],
   "source": [
    "def neutralize(B, w):\n",
    "    wb = project_general(w, B)\n",
    "    wp = w - wb\n",
    "    return wp"
   ]
  },
  {
   "cell_type": "code",
   "execution_count": 5,
   "metadata": {},
   "outputs": [],
   "source": [
    "def findStrInFile(str):\n",
    "    f_pro = open('professions.txt')\n",
    "    for line in f_pro.readlines():\n",
    "        l = len(line)\n",
    "        if str == line[:l - 1]:\n",
    "            f_pro.close()\n",
    "            return True\n",
    "    f_pro.close()\n",
    "    return False"
   ]
  },
  {
   "cell_type": "code",
   "execution_count": 6,
   "metadata": {},
   "outputs": [],
   "source": [
    "import string\n",
    "import re\n",
    "\n",
    "# 对于 model 中训练得到的词向量，依次查看词是否为职业词，若是，则做中性化处理\n",
    "\n",
    "fout = open('wiki.zh.debias.txt', 'w')\n",
    "model = word2vec.Word2Vec.load('wiki.zh.model')\n",
    "\n",
    "D = list()\n",
    "W = [\"他\", \"她\", \"他们\", \"她们\", \"男性\", \"女性\", \"父亲\", \"母亲\", \"儿子\", \"女儿\", \n",
    "     \"爸爸\", \"妈妈\", \"男孩\", \"女孩\", \"男生\", \"女生\", \"男人\", \"女人\", \"男子\", \"女子\"]\n",
    "i = 0\n",
    "while i < len(W):\n",
    "    Di = list()\n",
    "    Di.append(model.wv[W[i]])\n",
    "    Di.append(model.wv[W[i + 1]])\n",
    "    D.append(Di)\n",
    "    i += 2\n",
    "\n",
    "# 现在 D 中存有 10 * 2 * 100 个元素：\n",
    "# 10 个定义集，每个定义集中有 2 个性别对立的词向量，每个词向量有 300 个维度\n",
    "\n",
    "D = np.array(D)\n",
    "B = generate_subspace(D, 10)\n",
    "\n",
    "for word in model.wv.vocab.keys():\n",
    "    if findStrInFile(word):\n",
    "        w = model.wv[word]\n",
    "        w_n = neutralize(B, w)\n",
    "        s = \"\"\n",
    "        s += word + \" \"\n",
    "        for i in w_n:\n",
    "            s += str(i) + \" \"\n",
    "        s += \"\\n\"\n",
    "        fout.write(s)\n",
    "    else:\n",
    "        w = model.wv[word]\n",
    "        s = \"\"\n",
    "        s += word + \" \"\n",
    "        for i in w:\n",
    "            s += str(i) + \" \"\n",
    "        s += \"\\n\"\n",
    "        fout.write(s)\n",
    "\n",
    "fout.close()"
   ]
  },
  {
   "cell_type": "code",
   "execution_count": null,
   "metadata": {},
   "outputs": [],
   "source": []
  }
 ],
 "metadata": {
  "kernelspec": {
   "display_name": "Python 3",
   "language": "python",
   "name": "python3"
  },
  "language_info": {
   "codemirror_mode": {
    "name": "ipython",
    "version": 3
   },
   "file_extension": ".py",
   "mimetype": "text/x-python",
   "name": "python",
   "nbconvert_exporter": "python",
   "pygments_lexer": "ipython3",
   "version": "3.7.6"
  }
 },
 "nbformat": 4,
 "nbformat_minor": 2
}
