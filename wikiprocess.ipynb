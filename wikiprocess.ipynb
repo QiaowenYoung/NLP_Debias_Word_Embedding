{
 "cells": [
  {
   "cell_type": "code",
   "execution_count": 11,
   "metadata": {},
   "outputs": [],
   "source": [
    "# delete English and numbers in the file\n",
    "\n",
    "import string\n",
    "import re\n",
    "\n",
    "fin = open('wiki.zh.txt.jian', 'r')\n",
    "fout = open('wiki.zh.de_eng.txt', 'w')\n",
    "\n",
    "for line in fin.readlines():\n",
    "    fout.write(re.sub('[a-zA-Z0-9]', '', line))\n",
    "fout.close()"
   ]
  },
  {
   "cell_type": "code",
   "execution_count": null,
   "metadata": {},
   "outputs": [],
   "source": [
    "# divide words using jieba\n",
    "\n",
    "import jieba\n",
    "\n",
    "with open('wiki.zh.de_eng.txt', errors='ignore', encoding='utf-8') as fp:\n",
    "    lines = fp.readlines()\n",
    "    for line in lines:\n",
    "        seg_list = jieba.cut(line)\n",
    "        with open('wiki.zh.divide.txt', 'a', encoding='utf-8') as ff:\n",
    "            ff.write(' '.join(seg_list))"
   ]
  },
  {
   "cell_type": "code",
   "execution_count": null,
   "metadata": {},
   "outputs": [],
   "source": [
    "# delete multiples spaces\n",
    "\n",
    "fin = open('wiki.zh.divide.txt', 'r')\n",
    "fout = open('wiki.zh.final.txt', 'w')\n",
    "\n",
    "for line in fin.readlines():\n",
    "    fout.write(' '.join(line.split()))\n",
    "fout.close()"
   ]
  },
  {
   "cell_type": "code",
   "execution_count": null,
   "metadata": {},
   "outputs": [],
   "source": [
    "# train model and save\n",
    "\n",
    "from gensim.models import word2vec\n",
    "\n",
    "sentences = word2vec.Text8Corpus('wiki.zh.final.txt')\n",
    "model = word2vec.Word2Vec(sentences)\n",
    "model.save('wiki.zh.model')"
   ]
  },
  {
   "cell_type": "code",
   "execution_count": null,
   "metadata": {},
   "outputs": [],
   "source": [
    "# find the top 15 words that are closest to \"他\" and \"她\"\n",
    "\n",
    "def findStrInFile(str):\n",
    "    f_pro = open('professions_processed.txt')\n",
    "    for line in f_pro.readlines():\n",
    "        l = len(line)\n",
    "        if str == line[:l - 1]:\n",
    "            f_pro.close()\n",
    "            return True\n",
    "    f_pro.close()\n",
    "    return False\n",
    "\n",
    "model = word2vec.Word2Vec.load('wiki.zh.model')\n",
    "f = open('wiki.zh.he_she.txt', 'w')\n",
    "\n",
    "f.write(\"他:\\n\")\n",
    "count = 0\n",
    "for e in model.most_similar(positive=['他'], topn=5000):\n",
    "    if count < 15 and findStrInFile(e[0]):\n",
    "        f.write(e[0])\n",
    "        f.write(\" \")\n",
    "        f.write(str(e[1]))\n",
    "        f.write(\"\\n\")\n",
    "        count = count + 1\n",
    "f.write(\"她:\\n\")\n",
    "count = 0\n",
    "for e in model.most_similar(positive=['她'], topn=5000):\n",
    "    if count < 15 and findStrInFile(e[0]):\n",
    "        f.write(e[0])\n",
    "        f.write(\" \")\n",
    "        f.write(str(e[1]))\n",
    "        f.write(\"\\n\")\n",
    "        count = count + 1\n",
    "\n",
    "f.close()"
   ]
  }
 ],
 "metadata": {
  "kernelspec": {
   "display_name": "Python 3",
   "language": "python",
   "name": "python3"
  },
  "language_info": {
   "codemirror_mode": {
    "name": "ipython",
    "version": 3
   },
   "file_extension": ".py",
   "mimetype": "text/x-python",
   "name": "python",
   "nbconvert_exporter": "python",
   "pygments_lexer": "ipython3",
   "version": "3.7.2"
  }
 },
 "nbformat": 4,
 "nbformat_minor": 2
}
