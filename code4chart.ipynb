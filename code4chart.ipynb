{
 "cells": [
  {
   "cell_type": "code",
   "execution_count": 149,
   "metadata": {},
   "outputs": [],
   "source": [
    "import numpy as np\n",
    "import string\n",
    "import re\n",
    "from gensim.models import word2vec\n",
    "model = word2vec.Word2Vec.load('wiki.zh.model')\n",
    "\n",
    "vecs = list() # aggregation of lists that store the vectors for each word\n",
    "words = list() # aggregation of words\n",
    "jobs = list() # list for jobs\n",
    "jobs_v = list() # vector for jobs\n",
    "he_v = list() # vector for \"he\"\n",
    "she_v = list() # vector for \"she\"\n",
    "he_dist = list() # words' distances to \"he\"\n",
    "she_dist = list() # words' distances to \"she\"\n",
    "\n",
    "def cosine_dist(l1, l2):\n",
    "    '''\n",
    "    USAGE\n",
    "    calculate the cosine distance of two words' vectors\n",
    "\n",
    "    INPUT\n",
    "    - l1: vector for either \"he\" or \"she\"\n",
    "    - l2: vector for the word to be compared\n",
    "\n",
    "    OUTPUT\n",
    "    a floating number in [-1, 1] representing the cosine distance of l1 and l2\n",
    "\n",
    "    '''\n",
    "    result = np.dot(l1, l2)\n",
    "    len_l1 = np.sqrt(np.dot(l1, l1))\n",
    "    len_l2 = np.sqrt(np.dot(l2, l2))\n",
    "    result /= len_l1 * len_l2\n",
    "    return result"
   ]
  },
  {
   "cell_type": "code",
   "execution_count": 150,
   "metadata": {},
   "outputs": [
    {
     "name": "stdout",
     "output_type": "stream",
     "text": [
      "find he\n",
      "find she\n"
     ]
    }
   ],
   "source": [
    "'''\n",
    "for line in f.readlines()[1:]:\n",
    "    l = line.split(\" \")\n",
    "    l.pop()\n",
    "    if re.findall(r'^\\u4ed6$',l[0]):\n",
    "        print('find he')\n",
    "        he_v = list(map(eval, l[1:]))\n",
    "    if re.findall(r'^\\u5979$',l[0]):\n",
    "        print('find she')\n",
    "        she_v = list(map(eval, l[1:]))\n",
    "    \n",
    "    #if l[0] not in punc:\n",
    "    if re.findall(r'[\\u4E00-\\u9FFF]',l[0]):\n",
    "        words.append(l[0])\n",
    "        vecs.append(list(map(eval, l[1:])))\n",
    "'''"
   ]
  },
  {
   "cell_type": "code",
   "execution_count": null,
   "metadata": {},
   "outputs": [],
   "source": [
    "def findStrInFile(str):\n",
    "    f_pro = open('professions.txt')\n",
    "    for line in f_pro.readlines():\n",
    "        l = len(line)\n",
    "        if str == line[:l - 1]:\n",
    "            f_pro.close()\n",
    "            return True\n",
    "    f_pro.close()\n",
    "    return False"
   ]
  },
  {
   "cell_type": "code",
   "execution_count": null,
   "metadata": {},
   "outputs": [],
   "source": [
    "for word in model.wv.index2word():\n",
    "    if word.encode('utf-8') == '他'.encode('utf-8'):\n",
    "        he_v = model.wv[word]\n",
    "    if word.encode('utf-8') == '她'.encode('utf-8'):\n",
    "        she_v = model.wv[word]\n",
    "    if findStrInFile(word):\n",
    "        jobs.append(word)\n",
    "        jobs_v.appen(model.wv[word])\n",
    "    else:\n",
    "        if word.encode('utf-8') != '他'.encode('utf-8') & word.encode('utf-8') != '她'.encode('utf-8'):\n",
    "            words.append(word)\n",
    "            vectors.append(model.wv[word])"
   ]
  },
  {
   "cell_type": "code",
   "execution_count": 168,
   "metadata": {},
   "outputs": [
    {
     "name": "stdout",
     "output_type": "stream",
     "text": [
      "300 300\n",
      "<class 'str'>\n",
      "293241\n",
      "244\n"
     ]
    },
    {
     "data": {
      "text/plain": [
       "'\\nfor vec in vecs:\\n    for line in fjob.readlines():\\n        if re.findall(,line)\\n    he_dist.append(cosine_dist(he_v, vec))\\n    she_dist.append(cosine_dist(she_v, vec))\\n'"
      ]
     },
     "execution_count": 168,
     "metadata": {},
     "output_type": "execute_result"
    }
   ],
   "source": [
    "for vec in jobs_v:\n",
    "    if len(vec) == 0:\n",
    "        print('there is an empty vector')\n",
    "\n",
    "for vec in jobs_v:\n",
    "    he_dist.append(cosine_dist(he_v, vec))\n",
    "    she_dist.append(cosine_dist(she_v, vec))"
   ]
  },
  {
   "cell_type": "code",
   "execution_count": 170,
   "metadata": {},
   "outputs": [],
   "source": [
    "he_words = list()\n",
    "she_words = list()\n",
    "\n",
    "new1 = np.argsort(he_dist)\n",
    "new1 = new1[::-1]\n",
    "for i in range(11):\n",
    "    j = new1[i]\n",
    "    temp = list()\n",
    "    temp.append(jobs[j])\n",
    "    temp.append(he_dist[j])\n",
    "    temp.append(she_dist[j])\n",
    "    he_words.append(temp)\n",
    "\n",
    "new2 = np.argsort(she_dist)\n",
    "new2 = new2[::-1]\n",
    "for i in range(11):\n",
    "    j = new2[i]\n",
    "    temp = list()\n",
    "    temp.append(jobs[j])\n",
    "    temp.append(he_dist[j])\n",
    "    temp.append(she_dist[j])\n",
    "    she_words.append(temp)"
   ]
  },
  {
   "cell_type": "code",
   "execution_count": 171,
   "metadata": {},
   "outputs": [],
   "source": [
    "fileObject = open('rst4chart.txt', 'w')\n",
    "for pair in he_words:\n",
    "    line = pair[0] + ' ' + str(pair[1]) + ' ' + str(pair[2]) + '\\n'\n",
    "    fileObject.write(line)\n",
    "    fileObject.write(\" \")\n",
    "fileObject.write(\"\\n\")\n",
    "        \n",
    "for pair in she_words:\n",
    "    line = pair[0] + ' ' + str(pair[1]) + ' ' + str(pair[2]) + '\\n'\n",
    "    fileObject.write(line)\n",
    "    fileObject.write(\" \")\n",
    "fileObject.write(\"\\n\")\n",
    "\n",
    "fileObject.close()"
   ]
  },
  {
   "cell_type": "code",
   "execution_count": 82,
   "metadata": {},
   "outputs": [
    {
     "data": {
      "text/plain": [
       "['-0.11111111']"
      ]
     },
     "execution_count": 82,
     "metadata": {},
     "output_type": "execute_result"
    }
   ],
   "source": []
  }
 ],
 "metadata": {
  "file_extension": ".py",
  "kernelspec": {
   "display_name": "Python 3",
   "language": "python",
   "name": "python3"
  },
  "language_info": {
   "codemirror_mode": {
    "name": "ipython",
    "version": 3
   },
   "file_extension": ".py",
   "mimetype": "text/x-python",
   "name": "python",
   "nbconvert_exporter": "python",
   "pygments_lexer": "ipython3",
   "version": "3.7.2"
  },
  "mimetype": "text/x-python",
  "name": "python",
  "npconvert_exporter": "python",
  "pygments_lexer": "ipython3",
  "version": 3
 },
 "nbformat": 4,
 "nbformat_minor": 2
}
